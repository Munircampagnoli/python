{
 "cells": [
  {
   "cell_type": "markdown",
   "metadata": {},
   "source": [
    "testes de python para um melhor desenvolvimento das minhas abilidades <2"
   ]
  },
  {
   "cell_type": "markdown",
   "metadata": {},
   "source": [
    "Faça um Programa que mostre a mensagem \"Alo mundo\" na tela."
   ]
  },
  {
   "cell_type": "code",
   "execution_count": 2,
   "metadata": {},
   "outputs": [
    {
     "name": "stdout",
     "output_type": "stream",
     "text": [
      "olá mundo \n"
     ]
    }
   ],
   "source": [
    "print(\"olá mundo \")"
   ]
  },
  {
   "cell_type": "markdown",
   "metadata": {},
   "source": [
    "Faça um Programa que peça um número e então mostre a mensagem O número informado foi [número]."
   ]
  },
  {
   "cell_type": "code",
   "execution_count": 6,
   "metadata": {},
   "outputs": [
    {
     "name": "stdout",
     "output_type": "stream",
     "text": [
      "esse é o seu num: 10\n"
     ]
    }
   ],
   "source": [
    "numero1 = input(\"digite um numero :\")\n",
    "numero2 = int(numero1)\n",
    "\n",
    "print(\"esse é o seu num:\", numero2)\n"
   ]
  },
  {
   "cell_type": "markdown",
   "metadata": {},
   "source": [
    "Faça um Programa que peça dois números e imprima a soma."
   ]
  },
  {
   "cell_type": "code",
   "execution_count": 10,
   "metadata": {},
   "outputs": [
    {
     "name": "stdout",
     "output_type": "stream",
     "text": [
      "a soma é : 20.0\n"
     ]
    }
   ],
   "source": [
    "numero1 = input(\"num 1:\")\n",
    "numero2 = input(\"num 2:\")\n",
    "\n",
    "numero1 = float(numero1)\n",
    "numero2 = float(numero2)\n",
    "\n",
    "soma = numero1 + numero2\n",
    "\n",
    "print(\"a soma é :\", soma)"
   ]
  },
  {
   "cell_type": "markdown",
   "metadata": {},
   "source": [
    "Faça um Programa que peça as 4 notas bimestrais e mostre a média."
   ]
  },
  {
   "cell_type": "code",
   "execution_count": 5,
   "metadata": {},
   "outputs": [
    {
     "name": "stdout",
     "output_type": "stream",
     "text": [
      "essa é a media: 5.0\n"
     ]
    }
   ],
   "source": [
    "nota1 = input(\"nota 1:\")\n",
    "nota2 = input(\"nota 2:\")\n",
    "nota3 = input(\"nota 3:\")\n",
    "nota4 = input(\"nota 4:\")\n",
    "\n",
    "nota1 = float(nota1)\n",
    "nota2 = float(nota2)\n",
    "nota3 = float(nota3)\n",
    "nota4 = float(nota4)\n",
    "\n",
    "media = float(nota1 + nota2 + nota3 + nota4) /4\n",
    "\n",
    "print(\"essa é a media:\" , media)"
   ]
  },
  {
   "cell_type": "markdown",
   "metadata": {},
   "source": [
    "Faça um Programa que converta metros para centímetros."
   ]
  },
  {
   "cell_type": "code",
   "execution_count": 6,
   "metadata": {},
   "outputs": [
    {
     "name": "stdout",
     "output_type": "stream",
     "text": [
      "quantidade em centimetros : 1000.0\n"
     ]
    }
   ],
   "source": [
    "metro1 = input(\"quantidade de metros:\")\n",
    "metro1 = float(metro1)\n",
    "\n",
    "calculo = (metro1 * 100)\n",
    "print(\"quantidade em centimetros :\" , calculo) "
   ]
  },
  {
   "cell_type": "markdown",
   "metadata": {},
   "source": [
    "Faça um Programa que peça o raio de um círculo, calcule e mostre sua área."
   ]
  },
  {
   "cell_type": "code",
   "execution_count": 7,
   "metadata": {},
   "outputs": [
    {
     "name": "stdout",
     "output_type": "stream",
     "text": [
      "o cauculo da area do circulo e: 314.159\n"
     ]
    }
   ],
   "source": [
    "raio1 = input(\"qual o raio?:\")\n",
    "raio1 = float(raio1)\n",
    "\n",
    "calculoa = 3.14159 * raio1**2\n",
    "print(\"o cauculo da area do circulo e:\", calculoa)\n"
   ]
  },
  {
   "cell_type": "markdown",
   "metadata": {},
   "source": [
    "Faça um Programa que calcule a área de um quadrado, em seguida mostre o dobro desta área para o usuário."
   ]
  },
  {
   "cell_type": "code",
   "execution_count": 1,
   "metadata": {},
   "outputs": [
    {
     "name": "stdout",
     "output_type": "stream",
     "text": [
      "a area total: 200.0\n"
     ]
    }
   ],
   "source": [
    "base1 =  float(input(\"qual o valor da base?:\"))\n",
    "altura1 = float(input(\"qual a altura da parede?:\"))\n",
    "\n",
    "area1 = float(base1*altura1*2)\n",
    "print (\"a area total:\", area1,)"
   ]
  },
  {
   "cell_type": "markdown",
   "metadata": {},
   "source": [
    "Faça um Programa que pergunte quanto você ganha por hora e o número de horas trabalhadas no mês. Calcule e mostre o total do seu salário no referido mês."
   ]
  },
  {
   "cell_type": "code",
   "execution_count": 4,
   "metadata": {},
   "outputs": [
    {
     "name": "stdout",
     "output_type": "stream",
     "text": [
      "seu salario bruto é de 24000.0 reais\n"
     ]
    }
   ],
   "source": [
    "money = float(input(\"quanto se ganha por h:\"))\n",
    "horas_trabalhadas = float(input(\"quantas horas trabalhadas no mês? \"))\n",
    "\n",
    "ganhos_totais = float(money*horas_trabalhadas)\n",
    "print (\"seu salario bruto é de\",ganhos_totais,\"reais\")"
   ]
  },
  {
   "cell_type": "markdown",
   "metadata": {},
   "source": [
    "Faça um Programa que peça a temperatura em graus Fahrenheit, transforme e mostre a temperatura em graus Celsius."
   ]
  },
  {
   "cell_type": "code",
   "execution_count": 5,
   "metadata": {},
   "outputs": [
    {
     "name": "stdout",
     "output_type": "stream",
     "text": [
      "-12.2 graus Celsius\n"
     ]
    }
   ],
   "source": [
    "f = float(input(\"temperatura em Fahrenheit:\"))\n",
    "c = (f - 32) * 5/9\n",
    "\n",
    "print(\"%.1f\" % c, \"graus Celsius\")"
   ]
  },
  {
   "cell_type": "markdown",
   "metadata": {},
   "source": [
    "Faça um Programa que peça a temperatura em graus Celsius, transforme e mostre em graus Fahrenheit."
   ]
  },
  {
   "cell_type": "code",
   "execution_count": 7,
   "metadata": {},
   "outputs": [
    {
     "name": "stdout",
     "output_type": "stream",
     "text": [
      "a temperatura em fahrenheit eh de (32, 40) graus\n"
     ]
    }
   ],
   "source": [
    "c = int(input(\"qual a temp:\"))\n",
    "f = (c * 1,8 + 32)\n",
    "print (\"a temperatura em fahrenheit eh de\",f,\"graus\")"
   ]
  },
  {
   "cell_type": "markdown",
   "metadata": {},
   "source": [
    "Faça um Programa que peça 2 números inteiros e um número real. Calcule e mostre\n",
    "o produto do dobro do primeiro com metade do segundo .\n",
    "a soma do triplo do primeiro com o terceiro.\n",
    "o terceiro elevado ao cubo."
   ]
  },
  {
   "cell_type": "code",
   "execution_count": 10,
   "metadata": {},
   "outputs": [
    {
     "name": "stdout",
     "output_type": "stream",
     "text": [
      "o produto do dobro do primeiro com metade do segundo 30.0 é essa \n",
      "o triplo do primeiro mais o terceiro é  60\n",
      "o cubo do terceiro é  27000\n"
     ]
    }
   ],
   "source": [
    "primeiro = int(input(\"qual o numero:\"))\n",
    "segundo = int(input(\"qual o numero:\"))\n",
    "terceiro  = int(input(\"qual o numero:\"))\n",
    "\n",
    "A2 = (primeiro*2 + segundo/2)\n",
    "B2 = (primeiro*3 + terceiro)\n",
    "C2 = (terceiro**3)\n",
    "\n",
    "print(\"o produto do dobro do primeiro com metade do segundo\", A2 ,\"é essa \")\n",
    "print(\"o triplo do primeiro mais o terceiro é \", B2 )\n",
    "print(\"o cubo do terceiro é \", C2)\n",
    "\n"
   ]
  },
  {
   "cell_type": "markdown",
   "metadata": {},
   "source": [
    "Tendo como dados de entrada a altura de uma pessoa, construa um algoritmo que calcule seu peso ideal, usando a seguinte fórmula: (72.7*altura) - 58"
   ]
  },
  {
   "cell_type": "code",
   "execution_count": 19,
   "metadata": {},
   "outputs": [
    {
     "name": "stdout",
     "output_type": "stream",
     "text": [
      "seu peso ideal eh{} 80 Kg\n"
     ]
    }
   ],
   "source": [
    "altura = float(input(\"qual a sua altura:\"))\n",
    "peso = int((72.7*altura)-58)\n",
    "print (\"seu peso ideal eh\",peso ,\"Kg\")"
   ]
  },
  {
   "cell_type": "markdown",
   "metadata": {},
   "source": [
    "Tendo como dado de entrada a altura (h) de uma pessoa, construa um algoritmo que calcule seu peso ideal, utilizando as seguintes fórmulas:\n",
    "Para homens: (72.7*h) - 58\n",
    "Para mulheres: (62.1*h) - 44.7"
   ]
  },
  {
   "cell_type": "code",
   "execution_count": 21,
   "metadata": {},
   "outputs": [
    {
     "name": "stdout",
     "output_type": "stream",
     "text": [
      "O peso ideal para o homem é de 80kg\n",
      "O peso ideal para a mulher é de 65kg\n"
     ]
    }
   ],
   "source": [
    "altura_homen = float(input(\"qual a altua do macho:\"))\n",
    "altura_mulher = float(input(\"qual a altura da mulher:\"))\n",
    "\n",
    "peso_macho = int((72.7*altura_homen)-58)\n",
    "peso_mulher = int((62.1*altura_mulher)-44.7)\n",
    "print (f\"O peso ideal para o homem é de {peso_macho}kg\")\n",
    "\n",
    "print (f\"O peso ideal para a mulher é de {peso_mulher}kg\")"
   ]
  },
  {
   "cell_type": "markdown",
   "metadata": {},
   "source": [
    "joão comprou um microcomputador para controlar o rendimento diário de seu trabalho. Toda vez que ele traz um peso de peixes maior que o estabelecido pelo regulamento de pesca do estado de São Paulo (50 quilos) deve pagar uma multa de R$ 4,00 por quilo excedente. João precisa que você faça um programa que leia a variável peso (peso de peixes) e calcule o excesso. Gravar na variável excesso a quantidade de quilos além do limite e na variável multa o valor da multa que João deverá pagar. Imprima os dados do programa com as mensagens adequadas."
   ]
  },
  {
   "cell_type": "code",
   "execution_count": null,
   "metadata": {},
   "outputs": [],
   "source": []
  },
  {
   "cell_type": "code",
   "execution_count": null,
   "metadata": {},
   "outputs": [],
   "source": []
  }
 ],
 "metadata": {
  "kernelspec": {
   "display_name": "Python 3",
   "language": "python",
   "name": "python3"
  },
  "language_info": {
   "codemirror_mode": {
    "name": "ipython",
    "version": 3
   },
   "file_extension": ".py",
   "mimetype": "text/x-python",
   "name": "python",
   "nbconvert_exporter": "python",
   "pygments_lexer": "ipython3",
   "version": "3.11.2"
  }
 },
 "nbformat": 4,
 "nbformat_minor": 2
}
